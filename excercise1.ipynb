{
 "cells": [
  {
   "cell_type": "markdown",
   "metadata": {},
   "source": [
    "# Excercise 1"
   ]
  },
  {
   "cell_type": "markdown",
   "metadata": {},
   "source": [
    "Write a program that takes an input number and checks whether it's a multiple of 3, 5, or both.\n",
    "If it's a multiple of both, print \"Divisible by both 3 and 5\", if it's only a multiple of 3, print\n",
    "\"Divisible by 3\", if it's only a multiple of 5, print \"Divisible by 5\".\n",
    "If it's not a multiple of either, print \"Not divisible by 3 or 5\"."
   ]
  },
  {
   "cell_type": "code",
   "execution_count": null,
   "metadata": {
    "vscode": {
     "languageId": "plaintext"
    }
   },
   "outputs": [],
   "source": []
  },
  {
   "cell_type": "markdown",
   "metadata": {},
   "source": [
    "Create a program that prompts the user to enter a character and checks if it's a vowel (a, e, i, o, u), a consonant, or neither."
   ]
  },
  {
   "cell_type": "code",
   "execution_count": null,
   "metadata": {
    "vscode": {
     "languageId": "plaintext"
    }
   },
   "outputs": [],
   "source": []
  }
 ],
 "metadata": {
  "language_info": {
   "name": "python"
  }
 },
 "nbformat": 4,
 "nbformat_minor": 2
}
